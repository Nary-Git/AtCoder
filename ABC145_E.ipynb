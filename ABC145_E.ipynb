{
 "cells": [
  {
   "cell_type": "code",
   "execution_count": null,
   "metadata": {},
   "outputs": [],
   "source": [
    "N,T=list(map(int,input().split()))\n",
    "AB=[list(map(int,input().split())) for i in range(N)]\n",
    "AB.sort()\n",
    "A=[AB[i][0] for i in range(N)]\n",
    "B=[AB[i][1] for i in range(N)]\n",
    "\n",
    "ansl=[0]*N\n",
    "dp=[[0 for i in range(T)] for i in range(N)]\n",
    "\n",
    "for i in range(N):\n",
    "    popA=A[i]\n",
    "    popB=B[i]\n",
    "    if i == 0:\n",
    "        popAl=A[1:]\n",
    "        popBl=B[1:]\n",
    "    if i == N-1:\n",
    "        popAl=A[:-1]\n",
    "        popBl=B[:-1]\n",
    "    else:\n",
    "        popAl=A[:i]+A[i+1:]\n",
    "        popBl=B[:i]+B[i+1:]\n",
    "    \n",
    "    for j in range(N-1):\n",
    "        for k in range(T):\n",
    "            if popAl[j] > k:\n",
    "                dp[j+1][k] = dp[j][k]\n",
    "            else:\n",
    "                dp[j+1][k] = max(dp[j][k],dp[j][k-popAl[j]]+popBl[j])\n",
    "    ansl[i]=dp[-1][-1]+popB\n",
    "print(max(ansl))"
   ]
  }
 ],
 "metadata": {
  "kernelspec": {
   "display_name": "Python 3",
   "language": "python",
   "name": "python3"
  },
  "language_info": {
   "codemirror_mode": {
    "name": "ipython",
    "version": 3
   },
   "file_extension": ".py",
   "mimetype": "text/x-python",
   "name": "python",
   "nbconvert_exporter": "python",
   "pygments_lexer": "ipython3",
   "version": "3.6.5"
  }
 },
 "nbformat": 4,
 "nbformat_minor": 2
}
