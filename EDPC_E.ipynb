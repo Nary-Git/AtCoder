{
 "cells": [
  {
   "cell_type": "code",
   "execution_count": 13,
   "metadata": {},
   "outputs": [
    {
     "name": "stdout",
     "output_type": "stream",
     "text": [
      "6 15\n",
      "6 5\n",
      "5 6\n",
      "6 4\n",
      "6 6\n",
      "3 5\n",
      "7 2\n",
      "[[0, inf, inf, inf, inf, inf, inf, inf, inf, inf, inf, inf, inf, inf, inf, inf, inf, inf, inf, inf, inf, inf, inf, inf, inf, inf, inf, inf, inf], [0, inf, inf, inf, inf, 6, inf, inf, inf, inf, inf, inf, inf, inf, inf, inf, inf, inf, inf, inf, inf, inf, inf, inf, inf, inf, inf, inf, inf], [0, inf, inf, inf, inf, 6, 5, inf, inf, inf, inf, 11, inf, inf, inf, inf, inf, inf, inf, inf, inf, inf, inf, inf, inf, inf, inf, inf, inf], [0, inf, inf, inf, 6, 6, 5, inf, inf, 12, 11, 11, inf, inf, inf, 17, inf, inf, inf, inf, inf, inf, inf, inf, inf, inf, inf, inf, inf], [0, inf, inf, inf, 6, 6, 5, inf, inf, 12, 11, 11, 11, inf, inf, 17, 17, 17, inf, inf, inf, 23, inf, inf, inf, inf, inf, inf, inf], [0, inf, inf, inf, 6, 3, 5, inf, inf, 9, 9, 8, 11, inf, 15, 14, 14, 14, inf, inf, 20, 20, 20, inf, inf, inf, 26, inf, inf], [0, inf, 7, inf, 6, 3, 5, 10, 12, 9, 9, 8, 11, 15, 15, 14, 14, 14, 21, 21, 20, 20, 20, 27, 27, inf, 26, inf, 33]]\n",
      "17\n"
     ]
    }
   ],
   "source": [
    "### 貰うDP\n",
    "\n",
    "N,W = list(map(int,input().split()))\n",
    "wv = [list(map(int,input().split())) for i in range(N)]\n",
    "w = [0]+[wv[i][0] for i in range(N)] #荷物無し、1番荷物～N番荷物の重さリスト\n",
    "v = [0]+[wv[i][1] for i in range(N)] #荷物無し、1番荷物～N番荷物の価値リスト\n",
    "V = sum(v)\n",
    "\n",
    "# DP用の行列（今回は最小値を求めるためinfで埋める）\n",
    "dp = [[float('INF') for i in range(V+1)] for i in range(N+1)]\n",
    "dp[0][0] = 0\n",
    "\n",
    "# 「1番荷物(i=1)」......「N番荷物(i=N)」から何番目までを使うかの場合分け\n",
    "# 価値合計が「0」「1」......「V」だった場合の場合分け\n",
    "# 以上二つの場合分け時に最小の重さをDPテーブルに記入していく\n",
    "for i in range(1,N+1):\n",
    "    for j in range(V+1):\n",
    "        if v[i] > j: # もしi番目の重さが仮の合計価値(j)を超えている場合\n",
    "            dp[i][j] = dp[i-1][j]\n",
    "        else: # 合計価値の残り「j-v[i]」をDPリストから参照してDP更新\n",
    "            dp[i][j] = min(dp[i-1][j],dp[i-1][j-v[i]]+w[i])\n",
    "\n",
    "# dp[N][j]をjが大きいところから見ていって、初めてW以下になったときのjが答え\n",
    "ans = V\n",
    "while dp[N][ans] > W:\n",
    "    ans -= 1\n",
    "print(ans)"
   ]
  },
  {
   "cell_type": "code",
   "execution_count": 16,
   "metadata": {},
   "outputs": [
    {
     "name": "stdout",
     "output_type": "stream",
     "text": [
      "6 15\n",
      "6 5\n",
      "5 6\n",
      "6 4\n",
      "6 6\n",
      "3 5\n",
      "7 2\n",
      "[[0, inf, inf, inf, inf, inf, inf, inf, inf, inf, inf, inf, inf, inf, inf, inf, inf, inf, inf, inf, inf, inf, inf, inf, inf, inf, inf, inf, inf], [0, inf, inf, inf, inf, 6, inf, inf, inf, inf, inf, inf, inf, inf, inf, inf, inf, inf, inf, inf, inf, inf, inf, inf, inf, inf, inf, inf, inf], [0, inf, inf, inf, inf, 6, 5, inf, inf, inf, inf, 11, inf, inf, inf, inf, inf, inf, inf, inf, inf, inf, inf, inf, inf, inf, inf, inf, inf], [0, inf, inf, inf, 6, 6, 5, inf, inf, 12, 11, 11, inf, inf, inf, 17, inf, inf, inf, inf, inf, inf, inf, inf, inf, inf, inf, inf, inf], [0, inf, inf, inf, 6, 6, 5, inf, inf, 12, 11, 11, 11, inf, inf, 17, 17, 17, inf, inf, inf, 23, inf, inf, inf, inf, inf, inf, inf], [0, inf, inf, inf, 6, 3, 5, inf, inf, 9, 9, 8, 11, inf, 15, 14, 14, 14, inf, inf, 20, 20, 20, inf, inf, inf, 26, inf, inf], [0, inf, 7, inf, 6, 3, 5, 10, 12, 9, 9, 8, 11, 15, 15, 14, 14, 14, 21, 21, 20, 20, 20, 27, 27, inf, 26, inf, 33]]\n",
      "17\n"
     ]
    }
   ],
   "source": [
    "###　配るDP\n",
    "\n",
    "N,W = list(map(int,input().split()))\n",
    "wv = [list(map(int,input().split())) for i in range(N)]\n",
    "w = [wv[i][0] for i in range(N)] #1番荷物～N番荷物の重さリスト\n",
    "v = [wv[i][1] for i in range(N)] #1番荷物～N番荷物の価値リスト\n",
    "V = sum(v)\n",
    "\n",
    "# DP用の行列（今回は最小値を求めるためinfで埋める）\n",
    "dp = [[float('INF') for i in range(V+1)] for i in range(N+1)]\n",
    "dp[0][0] = 0\n",
    "\n",
    "# 「1番荷物(i=0)」......「N番荷物(i=N-1)」から何番目までを使うかの場合分け\n",
    "# 合計価値が「0」「1」......「V」だった場合の場合分け\n",
    "# 以上二つの場合分け時に最小の重さをDPテーブルに記入していく\n",
    "for i in range(N):\n",
    "    for j in range(V+1):\n",
    "        if v[i] > j: # もしi番目の重さが仮の合計価値(j)を超えている場合\n",
    "            dp[i+1][j] = dp[i][j]\n",
    "        else: # 合計価値の残り「j-v[i]」をDPリストから参照してDP更新\n",
    "            dp[i+1][j] = min(dp[i][j],dp[i][j-v[i]]+w[i])\n",
    "print(dp)\n",
    "            \n",
    "# dp[N][j]をjが大きいところから見ていって、初めてW以下になったときのjが答え\n",
    "ans = V\n",
    "while dp[N][ans] > W:\n",
    "    ans -= 1\n",
    "print(ans)"
   ]
  },
  {
   "cell_type": "code",
   "execution_count": 14,
   "metadata": {},
   "outputs": [
    {
     "name": "stdout",
     "output_type": "stream",
     "text": [
      "\n"
     ]
    },
    {
     "ename": "ValueError",
     "evalue": "not enough values to unpack (expected 2, got 0)",
     "output_type": "error",
     "traceback": [
      "\u001b[1;31m---------------------------------------------------------------------------\u001b[0m",
      "\u001b[1;31mValueError\u001b[0m                                Traceback (most recent call last)",
      "\u001b[1;32m<ipython-input-14-999ae74392c7>\u001b[0m in \u001b[0;36m<module>\u001b[1;34m()\u001b[0m\n\u001b[1;32m----> 1\u001b[1;33m \u001b[0mN\u001b[0m\u001b[1;33m,\u001b[0m\u001b[0mW\u001b[0m \u001b[1;33m=\u001b[0m \u001b[0mlist\u001b[0m\u001b[1;33m(\u001b[0m\u001b[0mmap\u001b[0m\u001b[1;33m(\u001b[0m\u001b[0mint\u001b[0m\u001b[1;33m,\u001b[0m\u001b[0minput\u001b[0m\u001b[1;33m(\u001b[0m\u001b[1;33m)\u001b[0m\u001b[1;33m.\u001b[0m\u001b[0msplit\u001b[0m\u001b[1;33m(\u001b[0m\u001b[1;33m)\u001b[0m\u001b[1;33m)\u001b[0m\u001b[1;33m)\u001b[0m\u001b[1;33m\u001b[0m\u001b[0m\n\u001b[0m\u001b[0;32m      2\u001b[0m \u001b[0mwv\u001b[0m \u001b[1;33m=\u001b[0m \u001b[1;33m[\u001b[0m\u001b[0mlist\u001b[0m\u001b[1;33m(\u001b[0m\u001b[0mmap\u001b[0m\u001b[1;33m(\u001b[0m\u001b[0mint\u001b[0m\u001b[1;33m,\u001b[0m\u001b[0minput\u001b[0m\u001b[1;33m(\u001b[0m\u001b[1;33m)\u001b[0m\u001b[1;33m.\u001b[0m\u001b[0msplit\u001b[0m\u001b[1;33m(\u001b[0m\u001b[1;33m)\u001b[0m\u001b[1;33m)\u001b[0m\u001b[1;33m)\u001b[0m \u001b[1;32mfor\u001b[0m \u001b[0mi\u001b[0m \u001b[1;32min\u001b[0m \u001b[0mrange\u001b[0m\u001b[1;33m(\u001b[0m\u001b[0mN\u001b[0m\u001b[1;33m)\u001b[0m\u001b[1;33m]\u001b[0m\u001b[1;33m\u001b[0m\u001b[0m\n\u001b[0;32m      3\u001b[0m \u001b[0mw\u001b[0m \u001b[1;33m=\u001b[0m \u001b[1;33m[\u001b[0m\u001b[1;36m0\u001b[0m\u001b[1;33m]\u001b[0m\u001b[1;33m+\u001b[0m\u001b[1;33m[\u001b[0m\u001b[0mwv\u001b[0m\u001b[1;33m[\u001b[0m\u001b[0mi\u001b[0m\u001b[1;33m]\u001b[0m\u001b[1;33m[\u001b[0m\u001b[1;36m0\u001b[0m\u001b[1;33m]\u001b[0m \u001b[1;32mfor\u001b[0m \u001b[0mi\u001b[0m \u001b[1;32min\u001b[0m \u001b[0mrange\u001b[0m\u001b[1;33m(\u001b[0m\u001b[0mN\u001b[0m\u001b[1;33m)\u001b[0m\u001b[1;33m]\u001b[0m\u001b[1;33m\u001b[0m\u001b[0m\n\u001b[0;32m      4\u001b[0m \u001b[0mv\u001b[0m \u001b[1;33m=\u001b[0m \u001b[1;33m[\u001b[0m\u001b[1;36m0\u001b[0m\u001b[1;33m]\u001b[0m\u001b[1;33m+\u001b[0m\u001b[1;33m[\u001b[0m\u001b[0mwv\u001b[0m\u001b[1;33m[\u001b[0m\u001b[0mi\u001b[0m\u001b[1;33m]\u001b[0m\u001b[1;33m[\u001b[0m\u001b[1;36m1\u001b[0m\u001b[1;33m]\u001b[0m \u001b[1;32mfor\u001b[0m \u001b[0mi\u001b[0m \u001b[1;32min\u001b[0m \u001b[0mrange\u001b[0m\u001b[1;33m(\u001b[0m\u001b[0mN\u001b[0m\u001b[1;33m)\u001b[0m\u001b[1;33m]\u001b[0m\u001b[1;33m\u001b[0m\u001b[0m\n\u001b[0;32m      5\u001b[0m \u001b[0mV\u001b[0m \u001b[1;33m=\u001b[0m \u001b[0msum\u001b[0m\u001b[1;33m(\u001b[0m\u001b[0mv\u001b[0m\u001b[1;33m)\u001b[0m\u001b[1;33m\u001b[0m\u001b[0m\n",
      "\u001b[1;31mValueError\u001b[0m: not enough values to unpack (expected 2, got 0)"
     ]
    }
   ],
   "source": [
    "N,W = list(map(int,input().split()))\n",
    "wv = [list(map(int,input().split())) for i in range(N)]\n",
    "w = [0]+[wv[i][0] for i in range(N)]\n",
    "v = [0]+[wv[i][1] for i in range(N)]\n",
    "V = sum(v)\n",
    "\n",
    "dp = [[float('INF') for i in range(V+1)] for i in range(N+1)]\n",
    "dp[0][0] = 0\n",
    "\n",
    "for i in range(1,N+1):\n",
    "    for j in range(V+1):\n",
    "        if v[i] > j:\n",
    "            dp[i][j] = dp[i-1][j]\n",
    "        else:\n",
    "            dp[i][j] = min(dp[i-1][j],dp[i-1][j-v[i]]+w[i])\n",
    "          \n",
    "            \n",
    "ans = V\n",
    "while dp[N][ans] > W:\n",
    "    ans -= 1\n",
    "\n",
    "print(ans)"
   ]
  }
 ],
 "metadata": {
  "kernelspec": {
   "display_name": "Python 3",
   "language": "python",
   "name": "python3"
  },
  "language_info": {
   "codemirror_mode": {
    "name": "ipython",
    "version": 3
   },
   "file_extension": ".py",
   "mimetype": "text/x-python",
   "name": "python",
   "nbconvert_exporter": "python",
   "pygments_lexer": "ipython3",
   "version": "3.6.5"
  }
 },
 "nbformat": 4,
 "nbformat_minor": 2
}
