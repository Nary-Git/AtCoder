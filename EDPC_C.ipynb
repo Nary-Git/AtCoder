{
 "cells": [
  {
   "cell_type": "code",
   "execution_count": 5,
   "metadata": {},
   "outputs": [
    {
     "name": "stdout",
     "output_type": "stream",
     "text": [
      "3\n",
      "1 4 7\n",
      "2 5 8\n",
      "3 6 9\n",
      "3\n",
      "[[1, 4, 7], [2, 5, 8], [3, 6, 9]]\n",
      "[[1, 4, 7], [2, 5, 8], [3, 6, 9]]\n"
     ]
    }
   ],
   "source": [
    "n = int(input())\n",
    "abc = [list(map(int,input().split())) for i in range(n)]\n",
    "t_abc = abc\n",
    "\n",
    "dp = [0]*n\n",
    "dp[1] = max(abc[0])\n",
    "mabc = abc[0].index(max(abc[0]))\n",
    "\n",
    "print(n)\n",
    "print(abc)\n",
    "print(t_abc)"
   ]
  },
  {
   "cell_type": "code",
   "execution_count": 6,
   "metadata": {},
   "outputs": [
    {
     "name": "stdout",
     "output_type": "stream",
     "text": [
      "[0, 7, 12]\n"
     ]
    }
   ],
   "source": [
    "dp = [0]*(n+1)\n",
    "dp[1] = max(abc[0])\n",
    "\n",
    "m_index = abc[0].index(max(abc[0]))\n",
    "del t_abc[1][m_index]\n",
    "m_abc = max(t_abc[1])\n",
    "dp[2] = dp[1]+m_abc\n",
    "\n",
    "print(dp)\n",
    "print(t_abc)"
   ]
  },
  {
   "cell_type": "code",
   "execution_count": null,
   "metadata": {},
   "outputs": [],
   "source": [
    "m_index = abc[1].index(max(abc[1]))\n",
    "del abc[2][m_index]\n",
    "dp[3] = dp[2]+max(abc[2])\n",
    "\n",
    "\n",
    "print(dp)\n",
    "print(mabc)\n",
    "print(dp[n])"
   ]
  },
  {
   "cell_type": "code",
   "execution_count": 16,
   "metadata": {},
   "outputs": [
    {
     "name": "stdout",
     "output_type": "stream",
     "text": [
      "3\n",
      "1 4 7\n",
      "2 5 8\n",
      "3 6 9\n",
      "[[1, 4, 7], [2, 5, 8], [3, 6, 9]]\n",
      "[1, 9, 15]\n",
      "[4, 12, 18]\n",
      "[7, 12, 21]\n",
      "21\n"
     ]
    }
   ],
   "source": [
    "n = int(input())\n",
    "abc = [list(map(int,input().split())) for i in range(n)]\n",
    "\n",
    "dp_a = [abc[0][0]] + [0]*(n-1)\n",
    "dp_b = [abc[0][1]] + [0]*(n-1)\n",
    "dp_c = [abc[0][2]] + [0]*(n-1)\n",
    "\n",
    "dp_a[1] = max(        dp_b[0],dp_c[0]) + abc[1][0]\n",
    "dp_b[1] = max(dp_a[0],        dp_c[0]) + abc[1][1]\n",
    "dp_c[1] = max(dp_a[0],dp_b[0]        ) + abc[1][2]\n",
    "\n",
    "dp_a[2] = max(        dp_b[1],dp_c[1]) + abc[2][0]\n",
    "dp_b[2] = max(dp_a[1],        dp_c[1]) + abc[2][1]\n",
    "dp_c[2] = max(dp_a[1],dp_b[1]        ) + abc[2][2]\n",
    "\n",
    "\n",
    "ans = max(dp_a[-1],dp_b[-1],dp_c[-1])\n",
    "\n",
    "print(abc)\n",
    "print(dp_a)\n",
    "print(dp_b)\n",
    "print(dp_c)\n",
    "print(ans)"
   ]
  },
  {
   "cell_type": "code",
   "execution_count": null,
   "metadata": {},
   "outputs": [],
   "source": [
    "n = int(input())\n",
    "abc = [list(map(int,input().split())) for i in range(n)]\n",
    "\n",
    "# 1日目とそれ以降の日のDP_list作成\n",
    "dp_a = [abc[0][0]] + [0]*(n-1)\n",
    "dp_b = [abc[0][1]] + [0]*(n-1)\n",
    "dp_c = [abc[0][2]] + [0]*(n-1)\n",
    "\n",
    "# 2日目……1日目の行動以外のmax値に2日目の幸福度を足す\n",
    "dp_a[1] = max(        dp_b[0],dp_c[0]) + abc[1][0]\n",
    "dp_b[1] = max(dp_a[0],        dp_c[0]) + abc[1][1]\n",
    "dp_c[1] = max(dp_a[0],dp_b[0]        ) + abc[1][2]\n",
    "\n",
    "# 3日目……2日目の行動以外のmax値に3日目の幸福度を足す\n",
    "dp_a[2] = max(        dp_b[1],dp_c[1]) + abc[2][0]\n",
    "dp_b[2] = max(dp_a[1],        dp_c[1]) + abc[2][1]\n",
    "dp_c[2] = max(dp_a[1],dp_b[1]        ) + abc[2][2]\n",
    "\n",
    "# 3日終えた後の幸福度最大値抽出\n",
    "ans = max(dp_a[-1],dp_b[-1],dp_c[-1])\n",
    "\n",
    "print(dp_a)\n",
    "print(dp_b)\n",
    "print(dp_c)\n",
    "print(ans)"
   ]
  },
  {
   "cell_type": "code",
   "execution_count": 1,
   "metadata": {},
   "outputs": [
    {
     "name": "stdout",
     "output_type": "stream",
     "text": [
      "3\n",
      "1 4 7\n",
      "2 5 8\n",
      "3 6 9\n",
      "[1, 9, 0]\n",
      "[4, 12, 0]\n",
      "[7, 12, 0]\n",
      "[1, 9, 15]\n",
      "[4, 12, 18]\n",
      "[7, 12, 21]\n",
      "21\n"
     ]
    }
   ],
   "source": [
    "n = int(input())\n",
    "abc = [list(map(int,input().split())) for i in range(n)]\n",
    "\n",
    "dp_a = [abc[0][0]] + [0]*(n-1)\n",
    "dp_b = [abc[0][1]] + [0]*(n-1)\n",
    "dp_c = [abc[0][2]] + [0]*(n-1)\n",
    "\n",
    "for i in range(n-1):\n",
    "    dp_a[i+1] = max(        dp_b[i],dp_c[i]) + abc[i+1][0]\n",
    "    dp_b[i+1] = max(dp_a[i],        dp_c[i]) + abc[i+1][1]\n",
    "    dp_c[i+1] = max(dp_a[i],dp_b[i]        ) + abc[i+1][2]\n",
    "    print(dp_a)\n",
    "    print(dp_b)\n",
    "    print(dp_c)\n",
    "\n",
    "ans = max(dp_a[-1],dp_b[-1],dp_c[-1])\n",
    "print(ans)"
   ]
  },
  {
   "cell_type": "code",
   "execution_count": 1,
   "metadata": {},
   "outputs": [
    {
     "name": "stdout",
     "output_type": "stream",
     "text": [
      "3\n",
      "1 4 7\n",
      "2 5 8\n",
      "3 6 9\n"
     ]
    }
   ],
   "source": [
    "n = int(input())\n",
    "abc = [list(map(int,input().split())) for i in range(n)]\n",
    "a = [abc[i][0] for i in range(n)]\n",
    "b = [abc[i][1] for i in range(n)]\n",
    "c = [abc[i][2] for i in range(n)]\n",
    "\n",
    "dp = [[0 for i in range(n)] for i in range(3)]"
   ]
  },
  {
   "cell_type": "code",
   "execution_count": 2,
   "metadata": {},
   "outputs": [
    {
     "name": "stdout",
     "output_type": "stream",
     "text": [
      "[1, 2, 3]\n",
      "[4, 5, 6]\n",
      "[7, 8, 9]\n",
      "[[0, 0, 0], [0, 0, 0], [0, 0, 0]]\n"
     ]
    }
   ],
   "source": [
    "print(a)\n",
    "print(b)\n",
    "print(c)\n",
    "print(dp)"
   ]
  },
  {
   "cell_type": "code",
   "execution_count": null,
   "metadata": {},
   "outputs": [],
   "source": [
    "for i in range(n):\n",
    "    for j in range(3):\n",
    "        dp[i][j] = "
   ]
  }
 ],
 "metadata": {
  "kernelspec": {
   "display_name": "Python 3",
   "language": "python",
   "name": "python3"
  },
  "language_info": {
   "codemirror_mode": {
    "name": "ipython",
    "version": 3
   },
   "file_extension": ".py",
   "mimetype": "text/x-python",
   "name": "python",
   "nbconvert_exporter": "python",
   "pygments_lexer": "ipython3",
   "version": "3.6.5"
  }
 },
 "nbformat": 4,
 "nbformat_minor": 2
}
