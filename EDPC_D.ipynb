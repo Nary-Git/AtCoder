{
 "cells": [
  {
   "cell_type": "code",
   "execution_count": 17,
   "metadata": {},
   "outputs": [
    {
     "name": "stdout",
     "output_type": "stream",
     "text": [
      "3 8\n",
      "3 30\n",
      "4 50\n",
      "5 60\n"
     ]
    }
   ],
   "source": [
    "N,W = list(map(int,input().split()))\n",
    "wv = [list(map(int,input().split())) for i in range(n)]\n",
    "w = [wv[i][0] for i in range(n)]\n",
    "v = [wv[i][1] for i in range(n)]\n",
    "dp = [[0 for i in range(W+1)] for j in range(N+1)]"
   ]
  },
  {
   "cell_type": "code",
   "execution_count": 18,
   "metadata": {},
   "outputs": [
    {
     "name": "stdout",
     "output_type": "stream",
     "text": [
      "[3, 4, 5]\n",
      "[30, 50, 60]\n",
      "[[0, 0, 0, 0, 0, 0, 0, 0, 0], [0, 0, 0, 0, 0, 0, 0, 0, 0], [0, 0, 0, 0, 0, 0, 0, 0, 0], [0, 0, 0, 0, 0, 0, 0, 0, 0]]\n"
     ]
    }
   ],
   "source": [
    "print(w)\n",
    "print(v)\n",
    "print(dp)"
   ]
  },
  {
   "cell_type": "code",
   "execution_count": 6,
   "metadata": {},
   "outputs": [
    {
     "name": "stdout",
     "output_type": "stream",
     "text": [
      "6 15\n",
      "6 5\n",
      "5 6\n",
      "6 4\n",
      "6 6\n",
      "3 5\n",
      "7 2\n",
      "[[0, 0, 0, 0, 0, 0, 0, 0, 0, 0, 0, 0, 0, 0, 0, 0], [0, 0, 0, 0, 0, 0, 5, 5, 5, 5, 5, 5, 5, 5, 5, 5], [0, 0, 0, 0, 0, 6, 6, 6, 6, 6, 6, 11, 11, 11, 11, 11], [0, 0, 0, 0, 0, 6, 6, 6, 6, 6, 6, 11, 11, 11, 11, 11], [0, 0, 0, 0, 0, 6, 6, 6, 6, 6, 6, 12, 12, 12, 12, 12], [0, 0, 0, 5, 5, 6, 6, 6, 11, 11, 11, 12, 12, 12, 17, 17], [0, 0, 0, 5, 5, 6, 6, 6, 11, 11, 11, 12, 12, 12, 17, 17]]\n",
      "17\n"
     ]
    }
   ],
   "source": [
    "### 貰うDP\n",
    "\n",
    "N,W = list(map(int,input().split()))\n",
    "wv = [list(map(int,input().split())) for i in range(N)]\n",
    "w = [0]+[wv[i][0] for i in range(N)] #荷物無し、1番荷物～N番荷物の重さリスト\n",
    "v = [0]+[wv[i][1] for i in range(N)] #荷物無し、1番荷物～N番荷物の価値リスト\n",
    "\n",
    "# DP用の空行列（[0～W]×[0～N]の行列）\n",
    "dp = [[0 for i in range(W+1)] for j in range(N+1)]\n",
    "\n",
    "# 「1番荷物(i=1)」......「N番荷物(i=N)」から何番目までを使うかの場合分け\n",
    "# 仮に重量制限が「0」「1」......「W」だった場合の場合分け\n",
    "for i in range(1,N+1):\n",
    "    for j in range(W+1):\n",
    "        if w[i] > j: # もしi番目の重さが重量制限を超えている場合\n",
    "            dp[i][j] = dp[i-1][j]\n",
    "        else: # 重量制限の残り「j-w[i]」を重量制限としてdpから引用してdp更新\n",
    "            dp[i][j] = max(dp[i-1][j],dp[i-1][j-w[i]]+v[i])\n",
    "\n",
    "print(dp)\n",
    "print(dp[-1][-1])"
   ]
  },
  {
   "cell_type": "code",
   "execution_count": 7,
   "metadata": {},
   "outputs": [
    {
     "name": "stdout",
     "output_type": "stream",
     "text": [
      "6 15\n",
      "6 5\n",
      "5 6\n",
      "6 4\n",
      "6 6\n",
      "3 5\n",
      "7 2\n",
      "[[0, 0, 0, 0, 0, 0, 0, 0, 0, 0, 0, 0, 0, 0, 0, 0], [0, 0, 0, 0, 0, 0, 5, 5, 5, 5, 5, 5, 5, 5, 5, 5], [0, 0, 0, 0, 0, 6, 6, 6, 6, 6, 6, 11, 11, 11, 11, 11], [0, 0, 0, 0, 0, 6, 6, 6, 6, 6, 6, 11, 11, 11, 11, 11], [0, 0, 0, 0, 0, 6, 6, 6, 6, 6, 6, 12, 12, 12, 12, 12], [0, 0, 0, 5, 5, 6, 6, 6, 11, 11, 11, 12, 12, 12, 17, 17], [0, 0, 0, 5, 5, 6, 6, 6, 11, 11, 11, 12, 12, 12, 17, 17]]\n",
      "17\n"
     ]
    }
   ],
   "source": [
    "### 配るDP\n",
    "\n",
    "N,W = list(map(int,input().split()))\n",
    "wv = [list(map(int,input().split())) for i in range(N)]\n",
    "w = [wv[i][0] for i in range(N)] #1番荷物～N番荷物の重さリスト\n",
    "v = [wv[i][1] for i in range(N)] #1番荷物～N番荷物の価値リスト\n",
    "\n",
    "# DP用の空行列（[0～W]×[0～N]の行列）\n",
    "dp = [[0 for i in range(W+1)] for j in range(N+1)]\n",
    "\n",
    "# 「1番荷物(i=0)」......「N番荷物(i=N-1)」から何番目までを使うかの場合分け\n",
    "# 仮に重量制限が「0」「1」......「W」だった場合の場合分け\n",
    "for i in range(N):\n",
    "    for j in range(W+1):\n",
    "        if w[i] > j: # もしi番目の重さが重量制限を超えている場合\n",
    "            dp[i+1][j] = dp[i][j]\n",
    "        else: # 重量制限の残り「j-w[i]」を重量制限としてdpから引用してdp更新\n",
    "            dp[i+1][j] = max(dp[i][j],dp[i][j-w[i]]+v[i])\n",
    "\n",
    "print(dp)\n",
    "print(dp[-1][-1])"
   ]
  },
  {
   "cell_type": "code",
   "execution_count": 23,
   "metadata": {},
   "outputs": [
    {
     "name": "stdout",
     "output_type": "stream",
     "text": [
      "6 15\n",
      "6 5\n",
      "5 6\n",
      "6 4\n",
      "6 6\n",
      "3 5\n",
      "7 2\n",
      "[[0, inf, inf, inf, inf, inf, inf, inf, inf, inf, inf, inf, inf, inf, inf, inf, inf, inf, inf, inf, inf, inf, inf, inf, inf, inf, inf, inf, inf], [0, inf, inf, inf, inf, inf, 5, inf, inf, inf, inf, inf, inf, inf, inf, inf, inf, inf, inf, inf, inf, inf, inf, inf, inf, inf, inf, inf, inf], [0, inf, inf, inf, 6, inf, 5, inf, inf, inf, 11, inf, inf, inf, inf, inf, inf, inf, inf, inf, inf, inf, inf, inf, inf, inf, inf, inf, inf], [0, inf, inf, inf, 6, inf, 5, inf, inf, inf, 11, inf, 11, inf, inf, inf, 17, inf, inf, inf, inf, inf, inf, inf, inf, inf, inf, inf, inf], [0, inf, inf, inf, 6, 3, 5, inf, inf, 9, 11, 8, 11, inf, inf, 14, 17, 14, inf, inf, inf, 20, inf, inf, inf, inf, inf, inf, inf], [0, inf, 7, inf, 6, 3, 5, 10, 12, 9, 11, 8, 11, 15, 18, 14, 17, 14, 24, 21, inf, 20, inf, 27, inf, inf, inf, inf, inf], [inf, inf, inf, inf, inf, inf, inf, inf, inf, inf, inf, inf, inf, inf, inf, inf, inf, inf, inf, inf, inf, inf, inf, inf, inf, inf, inf, inf, inf]]\n"
     ]
    }
   ],
   "source": []
  },
  {
   "cell_type": "code",
   "execution_count": 25,
   "metadata": {},
   "outputs": [
    {
     "name": "stdout",
     "output_type": "stream",
     "text": [
      "17\n"
     ]
    }
   ],
   "source": []
  }
 ],
 "metadata": {
  "kernelspec": {
   "display_name": "Python 3",
   "language": "python",
   "name": "python3"
  },
  "language_info": {
   "codemirror_mode": {
    "name": "ipython",
    "version": 3
   },
   "file_extension": ".py",
   "mimetype": "text/x-python",
   "name": "python",
   "nbconvert_exporter": "python",
   "pygments_lexer": "ipython3",
   "version": "3.6.5"
  }
 },
 "nbformat": 4,
 "nbformat_minor": 2
}
